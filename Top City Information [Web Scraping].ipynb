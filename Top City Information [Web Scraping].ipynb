{
 "cells": [
  {
   "cell_type": "markdown",
   "metadata": {},
   "source": [
    "# Libraries"
   ]
  },
  {
   "cell_type": "code",
   "execution_count": 133,
   "metadata": {},
   "outputs": [],
   "source": [
    "import requests\n",
    "import numpy as np\n",
    "import pandas as pd\n",
    "from bs4 import BeautifulSoup as bs\n",
    "from urllib.request import urlopen as uReq\n",
    "import re\n",
    "import time\n",
    "from collections import defaultdict\n",
    "import operator\n",
    "import math\n",
    "import nltk\n",
    "from nltk.tokenize import word_tokenize\n",
    "import os\n",
    "import matplotlib.pyplot as plt\n",
    "from csv import writer\n",
    "import unicodedata"
   ]
  },
  {
   "cell_type": "markdown",
   "metadata": {},
   "source": [
    "# Functions"
   ]
  },
  {
   "cell_type": "code",
   "execution_count": 229,
   "metadata": {},
   "outputs": [],
   "source": [
    "def getdoc(url):\n",
    "    items = uReq(url)\n",
    "    soup = bs(items, 'html.parser')\n",
    "    return soup"
   ]
  },
  {
   "cell_type": "code",
   "execution_count": 228,
   "metadata": {},
   "outputs": [],
   "source": [
    "def getCitiesNameUrl(soupobject):\n",
    "    citiestable = soupobject.find('table', {'class': 'wikitable sortable'})\n",
    "    citiesname = []\n",
    "    citiesurl = []\n",
    "    for i in range(1,len(citiestable.findAll('tr'))):\n",
    "        a = (citiestable.findAll('tr'))[i]\n",
    "        a = a.findAll('td')\n",
    "        a = a[1].find('a', attrs={'href': re.compile(\"^/wiki/\")})\n",
    "        citiesname.append(a.text)\n",
    "        citiesurl.append(\"https://en.wikipedia.org\" + a.get('href'))\n",
    "    return citiesname, citiesurl"
   ]
  },
  {
   "cell_type": "code",
   "execution_count": 227,
   "metadata": {},
   "outputs": [],
   "source": [
    "def getCityDetail(citiesname, citiesurl):\n",
    "    \n",
    "    maindf = pd.DataFrame()\n",
    "    maindf['Name'] = np.nan\n",
    "    \n",
    "    for k in range(len(citiesname)):\n",
    "        city = citiesurl[k]\n",
    "        cityinfo = getdoc(city)\n",
    "        cityfields = cityinfo.find('table', {'class': 'infobox geography vcard'})\n",
    "        counter = 0\n",
    "        \n",
    "        for i in range(1, len(cityfields.findAll('tr'))):\n",
    "            if (len(cityfields.findAll('tr')[i].findAll('th')) > 0):\n",
    "                counter = i\n",
    "                break    \n",
    "                \n",
    "        citydetail = {}\n",
    "        \n",
    "        for i in range(counter, len(cityfields.findAll('tr'))):\n",
    "            attribute = cityfields.findAll('tr')[i].findAll('th')[0].text\n",
    "            if (len(cityfields.findAll('tr')[i].findAll('td')) > 0):\n",
    "                attributeValue = cityfields.findAll('tr')[i].findAll('td')[0].text\n",
    "                citydetail[unicodedata.normalize(\"NFKC\", attribute)] = unicodedata.normalize(\"NFKC\", attributeValue)\n",
    "            if(attribute == \"Website\"):\n",
    "                break\n",
    "        \n",
    "        maindf.loc[k, 'Name'] = citiesname[k] \n",
    "\n",
    "        for i,j in citydetail.items():\n",
    "            if i not in maindf.columns:\n",
    "                maindf[i] = np.nan\n",
    "                maindf.loc[k, i] = j\n",
    "            if i in maindf.columns:\n",
    "                maindf.loc[k, i] = j\n",
    "                \n",
    "    return maindf"
   ]
  },
  {
   "cell_type": "markdown",
   "metadata": {},
   "source": [
    "# Main Function"
   ]
  },
  {
   "cell_type": "markdown",
   "metadata": {},
   "source": [
    "## Getting List of Cities"
   ]
  },
  {
   "cell_type": "code",
   "execution_count": 230,
   "metadata": {},
   "outputs": [],
   "source": [
    "citieslisturl = \"https://en.wikipedia.org/wiki/List_of_United_States_cities_by_population\"\n",
    "citieslistpage = getdoc(citieslisturl)"
   ]
  },
  {
   "cell_type": "code",
   "execution_count": 231,
   "metadata": {},
   "outputs": [],
   "source": [
    "citiesname, citiesurl = getCitiesNameUrl(citieslistpage)"
   ]
  },
  {
   "cell_type": "markdown",
   "metadata": {},
   "source": [
    "## Getting Table of Fields of Cities"
   ]
  },
  {
   "cell_type": "code",
   "execution_count": 232,
   "metadata": {},
   "outputs": [],
   "source": [
    "cityTabledf = getCityDetail(citiesname, citiesurl)"
   ]
  },
  {
   "cell_type": "markdown",
   "metadata": {},
   "source": [
    "# Writing To CSV"
   ]
  },
  {
   "cell_type": "code",
   "execution_count": null,
   "metadata": {},
   "outputs": [],
   "source": [
    "cityTabledf.to_csv(\"Cities_Detail.csv\")"
   ]
  }
 ],
 "metadata": {
  "kernelspec": {
   "display_name": "Python 3",
   "language": "python",
   "name": "python3"
  },
  "language_info": {
   "codemirror_mode": {
    "name": "ipython",
    "version": 3
   },
   "file_extension": ".py",
   "mimetype": "text/x-python",
   "name": "python",
   "nbconvert_exporter": "python",
   "pygments_lexer": "ipython3",
   "version": "3.7.1"
  }
 },
 "nbformat": 4,
 "nbformat_minor": 2
}
